{
 "cells": [
  {
   "cell_type": "code",
   "execution_count": null,
   "id": "6b6ddb52-e1bd-49b9-86d1-a51a9d9b6bad",
   "metadata": {
    "tags": []
   },
   "outputs": [],
   "source": [
    "!pip install 'torch>=2.0'\n",
    "!pip install -U audiocraft\n",
    "!pip install wandb"
   ]
  },
  {
   "cell_type": "code",
   "execution_count": null,
   "id": "970a6bf2-7d19-44ce-8052-fb7622102270",
   "metadata": {
    "tags": []
   },
   "outputs": [],
   "source": [
    "import wandb\n",
    "wandb.login()"
   ]
  },
  {
   "cell_type": "code",
   "execution_count": null,
   "id": "2084a670-0f09-4ec0-bb0d-380b6ed05a76",
   "metadata": {
    "tags": []
   },
   "outputs": [],
   "source": [
    "from train import main\n",
    "\n",
    "dataset_cfg = dict(\n",
    "        dataset_path_train = \"train\",\n",
    "        dataset_path_eval = \"eval\",\n",
    "        batch_size=4,\n",
    "        num_examples_train= 1000,\n",
    "        num_examples_eval= 200,\n",
    "        segment_duration= 30,\n",
    "        sample_rate= 32_000,\n",
    "        shuffle= True,\n",
    "        return_info= False)\n",
    "\n",
    "cfg = dict(\n",
    "    learning_rate = 0.0001,\n",
    "    epochs = 80,\n",
    "    model = \"small\",\n",
    "    seed = (hash(\"blabliblu\") % 2**32 - 1),\n",
    "    use_wandb = True\n",
    ")\n",
    "\n",
    "main(\"\", cfg, dataset_cfg, '')"
   ]
  },
  {
   "cell_type": "code",
   "execution_count": null,
   "id": "d7f5a66f-d506-496b-aecb-b4b07210ba2d",
   "metadata": {},
   "outputs": [],
   "source": [
    "import torch\n",
    "from audiocraft.models import MusicGen\n",
    "from generate_inf import generate_long_seq\n",
    "from util import display_audio\n",
    "\n",
    "model = MusicGen.get_pretrained('small')\n",
    "model.lm.load_state_dict(torch.load('models/lm_hitech_final.pt'))\n",
    "\n",
    "model.set_generation_params(\n",
    "    use_sampling=True,\n",
    "    top_k=250,\n",
    "    duration=30,\n",
    ")\n",
    "\n",
    "out = generate_long_seq(model, 8, 1024, True, 1.0, 250, 0, None)\n",
    "display_audio(out, path=\"audioSamples.wav\")"
   ]
  }
 ],
 "metadata": {
  "kernelspec": {
   "display_name": "Python 3 (ipykernel)",
   "language": "python",
   "name": "python3"
  },
  "language_info": {
   "codemirror_mode": {
    "name": "ipython",
    "version": 3
   },
   "file_extension": ".py",
   "mimetype": "text/x-python",
   "name": "python",
   "nbconvert_exporter": "python",
   "pygments_lexer": "ipython3",
   "version": "3.10.10"
  }
 },
 "nbformat": 4,
 "nbformat_minor": 5
}
